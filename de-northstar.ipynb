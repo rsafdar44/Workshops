{
  "metadata": {
    "kernelspec": {
      "display_name": "Workshop Notebook",
      "name": "Workshop"
    }
  },
  "nbformat_minor": 5,
  "nbformat": 4,
  "cells": [
    {
      "cell_type": "markdown",
      "metadata": {},
      "source": [
        "## Setup: Snowflake Trial Account with ACCOUNTADMIN Access\n",
        "1. **Sign up** for a Snowflake Trial Account: [Snowflake Trial Sign-Up](https://signup.snowflake.com/?trial=student&cloud=aws&region=us-west-2&utm_source=hol&utm_campaign=northstar-hols-2025)\n",
        "2. **Reference GitHub repo** for instructions: [Snowflake Labs GitHub](https://github.com/Snowflake-Labs/modern-data-engineering-snowflake)\n",
        "\n",
        "## Ingest Data through the Snowflake UI\n",
        "1. **Load data** from the Snowflake Marketplace: `Weather Source LLC: frostbyte` – the first result.\n",
        "2. **Rename dataset** as `FROSTBYTE_WEATHERSOURCE`.\n",
        "3. **Click** Query data to open a new SQL worksheet.\n",
        "4. **Open** a new Worksheet.\n",
        "5. **Hover over** `ONPOINT_ID` schema and **set worksheet context** for running queries.\n",
        "6. **Copy and paste** the SQL query from the `frostbyte-weathersource.sql` file into the worksheet and **click** Run All.\n"
      ]
    },
    {
      "cell_type": "code",
      "execution_count": null,
      "id": "5994d076",
      "metadata": {},
      "outputs": [],
      "source": [
        "SELECT\n",
        "  city_name,\n",
        "  country,\n",
        "  AVG(avg_temperature_air_2m_f) AS avg_temperature,\n",
        "  SUM(tot_precipitation_in) AS total_precipitation\n",
        "FROM\n",
        "  history_day\n",
        "WHERE\n",
        "  date_valid_std >= DATEADD (DAY, -7, CURRENT_DATE) \n",
        "  AND country = 'FR'\n",
        "GROUP BY\n",
        "  city_name,\n",
        "  country\n",
        "ORDER BY\n",
        "  total_precipitation DESC;"
      ]
    },
    {
      "cell_type": "markdown",
      "metadata": {},
      "source": [
        "## Data Transformations\n",
        "1. **Create a new SQL worksheet**.\n",
        "2. **Select** the `Hamburg_sales.sql` file from the repo and **copy/paste** into the worksheet **DO NOT RUN ALL**.\n",
        "3. **Run the first 3 lines** to set the context:\n"
      ]
    },
    {
      "cell_type": "code",
      "execution_count": null,
      "id": "f1993130",
      "metadata": {},
      "outputs": [],
      "source": [
        "USE ROLE accountadmin;\n",
        "USE WAREHOUSE compute_wh;\n",
        "USE DATABASE tasty_bytes;"
      ]
    },
    {
      "cell_type": "markdown",
      "metadata": {},
      "source": [
        "### Create a View that Adds Weather Data to Cities Where Tasty Bytes Operates\n"
      ]
    },
    {
      "cell_type": "code",
      "execution_count": null,
      "id": "63cce6f2",
      "metadata": {},
      "outputs": [],
      "source": [
        "CREATE OR REPLACE VIEW tasty_bytes.harmonized.daily_weather_v\n",
        "COMMENT = 'Weather Source Daily History filtered to Tasty Bytes supported Cities'\n",
        "    AS\n",
        "SELECT\n",
        "    hd.*, \n",
        "    TO_VARCHAR(hd.date_valid_std, 'YYYY-MM') AS yyyy_mm, \n",
        "    pc.city_name AS city, \n",
        "    c.country AS country_desc \n",
        "FROM FROSTBYTE_WEATHERSOURCE.onpoint_id.history_day hd\n",
        "JOIN FROSTBYTE_WEATHERSOURCE.onpoint_id.postal_codes pc\n",
        "    ON pc.postal_code = hd.postal_code\n",
        "    AND pc.country = hd.country\n",
        "JOIN TASTY_BYTES.raw_pos.country c\n",
        "    ON c.iso_country = hd.country\n",
        "    AND c.city = hd.city_name;"
      ]
    },
    {
      "cell_type": "markdown",
      "metadata": {},
      "source": [
        "### Create Views and Harmonized Schema\n"
      ]
    },
    {
      "cell_type": "code",
      "execution_count": null,
      "id": "95b56e0a",
      "metadata": {},
      "outputs": [],
      "source": [
        "CREATE OR REPLACE VIEW tasty_bytes.harmonized.daily_weather_v\n",
        "COMMENT = 'Weather Source Daily History filtered to Tasty Bytes supported Cities'\n",
        "    AS\n",
        "SELECT\n",
        "    hd.*, \n",
        "    TO_VARCHAR(hd.date_valid_std, 'YYYY-MM') AS yyyy_mm, \n",
        "    pc.city_name AS city, \n",
        "    c.country AS country_desc \n",
        "FROM FROSTBYTE_WEATHERSOURCE.onpoint_id.history_day hd\n",
        "JOIN FROSTBYTE_WEATHERSOURCE.onpoint_id.postal_codes pc\n",
        "    ON pc.postal_code = hd.postal_code\n",
        "    AND pc.country = hd.country\n",
        "JOIN TASTY_BYTES.raw_pos.country c\n",
        "    ON c.iso_country = hd.country\n",
        "    AND c.city = hd.city_name;"
      ]
    },
    {
      "cell_type": "markdown",
      "metadata": {},
      "source": [
        "### Return Windspeed for Hamburg\n"
      ]
    },
    {
      "cell_type": "code",
      "execution_count": null,
      "id": "b35a582d",
      "metadata": {},
      "outputs": [],
      "source": [
        "CREATE OR REPLACE VIEW tasty_bytes.harmonized.windspeed_hamburg\n",
        "    AS\n",
        "SELECT\n",
        "    dw.country_desc,\n",
        "    dw.city_name,\n",
        "    dw.date_valid_std,\n",
        "    MAX(dw.max_wind_speed_100m_mph) AS max_wind_speed_100m_mph\n",
        "FROM harmonized.daily_weather_v dw\n",
        "WHERE 1=1\n",
        "    AND dw.country_desc IN ('Germany')\n",
        "    AND dw.city_name = 'Hamburg'\n",
        "GROUP BY dw.country_desc, dw.city_name, dw.date_valid_std\n",
        "ORDER BY dw.date_valid_std DESC;"
      ]
    },
    {
      "cell_type": "markdown",
      "metadata": {},
      "source": [
        "## User Defined Functions (UDFs)\n",
        "1. **Open** the `udf_temp_length.sql` file in the repo.\n",
        "2. **Copy/paste** it into a new SQL worksheet.\n",
        "3. **Create Functions for temperature conversions and unit conversions**."
      ]
    },
    {
      "cell_type": "code",
      "execution_count": null,
      "id": "d7ed12fa",
      "metadata": {},
      "outputs": [],
      "source": [
        "USE ROLE accountadmin;\n",
        "USE WAREHOUSE compute_wh;\n",
        "USE DATABASE tasty_bytes;\n",
        "\n",
        "CREATE OR REPLACE FUNCTION tasty_bytes.analytics.fahrenheit_to_celsius(temp_f NUMBER(35,4))\n",
        "  RETURNS NUMBER(35,4)\n",
        "  AS\n",
        "  $$\n",
        "    (temp_f - 32) * (5/9)\n",
        "  $$\n",
        ";\n",
        "\n",
        "CREATE OR REPLACE FUNCTION tasty_bytes.analytics.inch_to_millimeter(inch NUMBER(35,4))\n",
        "  RETURNS NUMBER(35,4)\n",
        "  AS\n",
        "  $$\n",
        "    inch * 25.4\n",
        "  $$\n",
        ";\n"
      ]
    },
    {
      "cell_type": "markdown",
      "metadata": {},
      "source": [
        "### Weather Data for Hamburg and Conversion\n",
        "1. **Create the view for weather data in Hamburg** including temperature in Fahrenheit and precipitation in inches.\n"
      ]
    },
    {
      "cell_type": "code",
      "execution_count": null,
      "id": "358f7ca1",
      "metadata": {},
      "outputs": [],
      "source": [
        "CREATE OR REPLACE VIEW harmonized.weather_hamburg\n",
        "AS\n",
        "SELECT\n",
        "    fd.date_valid_std AS date,\n",
        "    fd.city_name,\n",
        "    fd.country_desc,\n",
        "    ZEROIFNULL(SUM(odv.price)) AS daily_sales,\n",
        "    ROUND(AVG(fd.avg_temperature_air_2m_f),2) AS avg_temperature_fahrenheit,\n",
        "    ROUND(AVG(analytics.fahrenheit_to_celsius(fd.avg_temperature_air_2m_f)),2) AS avg_temperature_celsius,\n",
        "    ROUND(AVG(fd.tot_precipitation_in),2) AS avg_precipitation_inches,\n",
        "    ROUND(AVG(analytics.inch_to_millimeter(fd.tot_precipitation_in)),2) AS avg_precipitation_millimeters,\n",
        "    MAX(fd.max_wind_speed_100m_mph) AS max_wind_speed_100m_mph\n",
        "FROM harmonized.daily_weather_v fd\n",
        "LEFT JOIN harmonized.orders_v odv\n",
        "    ON fd.date_valid_std = DATE(odv.order_ts)\n",
        "    AND fd.city_name = odv.primary_city\n",
        "    AND fd.country_desc = odv.country\n",
        "WHERE 1=1\n",
        "    AND fd.country_desc = 'Germany'\n",
        "    AND fd.city = 'Hamburg'\n",
        "    AND fd.yyyy_mm = '2022-02'\n",
        "GROUP BY fd.date_valid_std, fd.city_name, fd.country_desc\n",
        "ORDER BY fd.date_valid_std ASC;"
      ]
    },
    {
      "cell_type": "markdown",
      "metadata": {},
      "source": [
        "## Stored Procedures\n",
        "1. **Open** the `Orders_header_sproc.sql` file in the repo.\n",
        "2. **Copy/paste** the content into a new SQL worksheet. **Do not run all yet**.\n",
        "3. The stored procedure will process the `order_headers_stream` that we created earlier, which tracks changes to the `orders_header` table.\n",
        "4. **Run SQL statements** to set context and create the stored procedure."
      ]
    },
    {
      "cell_type": "code",
      "execution_count": null,
      "id": "8db089f0",
      "metadata": {},
      "outputs": [],
      "source": [
        "USE ROLE accountadmin;\n",
        "USE WAREHOUSE compute_wh;\n",
        "USE DATABASE tasty_bytes;"
      ]
    },
    {
      "cell_type": "markdown",
      "metadata": {},
      "source": [
        "## Create a Stored Procedure\n",
        "1. **Create the stored procedure**, define its logic with Snowpark for Python, and write sales to `raw_pos.daily_sales_hamburg_t`.\n",
        "2. **Run the INSERT INTO statement** to insert dummy data.\n",
        "3. **Run the SELECT statement** to verify the insert and call the stored procedure.\n"
      ]
    },
    {
      "cell_type": "code",
      "execution_count": null,
      "id": "4d774ef1",
      "metadata": {},
      "outputs": [],
      "source": [
        "CREATE OR REPLACE PROCEDURE tasty_bytes.raw_pos.process_order_headers_stream()\n",
        "  RETURNS STRING\n",
        "  LANGUAGE PYTHON\n",
        "  RUNTIME_VERSION = '3.10'\n",
        "  HANDLER ='process_order_headers_stream'\n",
        "  PACKAGES = ('snowflake-snowpark-python')\n",
        "AS\n",
        "$$\n",
        "import snowflake.snowpark.functions as F\n",
        "from snowflake.snowpark import Session\n",
        "\n",
        "def process_order_headers_stream(session: Session) -> float:\n",
        "    # Query the stream\n",
        "    recent_orders = session.table(\"order_header_stream\").filter(F.col(\"METADATA$ACTION\") == \"INSERT\")\n",
        "    \n",
        "    # Look up location of the orders in the stream using the LOCATIONS table\n",
        "    locations = session.table(\"location\")\n",
        "    hamburg_orders = recent_orders.join(\n",
        "        locations,\n",
        "        recent_orders[\"LOCATION_ID\"] == locations[\"LOCATION_ID\"]\n",
        "    ).filter(\n",
        "        (locations[\"CITY\"] == \"Hamburg\") &\n",
        "        (locations[\"COUNTRY\"] == \"Germany\")\n",
        "    )\n",
        "    \n",
        "    # Calculate the sum of sales in Hamburg\n",
        "    total_sales = hamburg_orders.group_by(F.date_trunc('DAY', F.col(\"ORDER_TS\"))).agg(\n",
        "        F.coalesce(F.sum(\"ORDER_TOTAL\"), F.lit(0)).alias(\"total_sales\")\n",
        "    )\n",
        "    \n",
        "    # Select the columns with proper aliases and convert to date type\n",
        "    daily_sales = total_sales.select(\n",
        "        F.col(\"DATE_TRUNC('DAY', ORDER_TS)\").cast(\"DATE\").alias(\"DATE\"),\n",
        "        F.col(\"total_sales\")\n",
        "    )\n",
        "    \n",
        "    # Write the results to the DAILY_SALES_HAMBURG_T table\n",
        "    total_sales.write.mode(\"append\").save_as_table(\"raw_pos.daily_sales_hamburg_t\")\n",
        "    \n",
        "    # Return a message indicating the operation was successful\n",
        "    return \"Order header stream processed successfully!\"\n",
        "$$\n",
        ";"
      ]
    },
    {
      "cell_type": "markdown",
      "metadata": {},
      "source": [
        "## Data Delivery with Streamlit\n",
        "1. **Navigate to Snowsight and Create a Streamlit App**\n",
        "2. **Name the app: `WAGES_CPI_USA_APP`**\n",
        "3. **Specify the App location as `WAGES_CPI_USA`,
        "4. **Run the App and deploy it**."
      ]
    }
  ]
}
